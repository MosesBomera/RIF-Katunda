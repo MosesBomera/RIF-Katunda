{
  "nbformat": 4,
  "nbformat_minor": 0,
  "metadata": {
    "colab": {
      "name": "Object Detection: Environment Setup and Creating TFRecords (Part Two).ipynb.ipynb",
      "provenance": [],
      "collapsed_sections": []
    },
    "kernelspec": {
      "name": "python3",
      "display_name": "Python 3"
    }
  },
  "cells": [
    {
      "cell_type": "markdown",
      "metadata": {
        "id": "lrRn82TufOsS",
        "colab_type": "text"
      },
      "source": [
        "# Object Detection: Environment Setup and Creating TFRecords (Part Two)\n",
        "This notebook is a follow-up to the Object Detection: Data Parsing and Visualization (Part One), in the object detection series.\n",
        "***\n",
        "**Objectives:**\n",
        "1. Install [Tensorflow Object Detection API](https://github.com/tensorflow/models/tree/master/research/object_detection) library.\n",
        "2. Prepare your workspace, creating the different folders etc.\n",
        "3. Upload your dataset to the workspace.\n",
        "4. Convert your dataset and labels to TFRecords.\n",
        "5. The notebook contains a number of **TODO** cells, please complete these before moving to the next cell."
      ]
    },
    {
      "cell_type": "markdown",
      "metadata": {
        "id": "7-rRgPawiAJG",
        "colab_type": "text"
      },
      "source": [
        "## Environment Setup\n",
        "In this section, we shall install the model that we shall use for object detection. We shall use the [Tensorflow Object Detection API](https://github.com/tensorflow/models/tree/master/research/object_detection), an open source framework built on top of TensorFlow that makes it easy to construct, train and deploy object detection models.\n",
        "***\n",
        "Notes:\n",
        "- The cell below runs the necessary commands to set up the environment, make sure to run it."
      ]
    },
    {
      "cell_type": "code",
      "metadata": {
        "id": "lA4kU2Vakp8G",
        "colab_type": "code",
        "colab": {}
      },
      "source": [
        "#@title [IMPORTANT] Run Cell to Set up Environment {display-mode: \"form\"}\n",
        "%%capture\n",
        "# 1. Create a directory named `object_detection`, this is where the model files will be stored.\n",
        "# 2. Download and install the Tensorflow Object Detection API models using [Git](https://en.wikipedia.org/wiki/Git) into the `object_detection` folder.\n",
        "# 3. Install the required libraries for the API.\n",
        "# 4. Install TF-Slim, a lightweight library for defining, training and evaluating complex models in TensorFlow.\n",
        "\n",
        "# We shall import the os library, it provides a number of functions that allow \n",
        "# interaction with the operating environment.\n",
        "import os\n",
        "\n",
        "# 1. Create a directory named object_detection\n",
        "!mkdir object_detection\n",
        "os.chdir('object_detection')\n",
        "\n",
        "# 2. Download and install the Tensorflow Object Detection API models using Git into the object_detection folder,\n",
        "# we use git command to get the source files from GitHub, git is preinstalled in the Google Colab environment.\n",
        "!git clone --depth=1 https://github.com/tensorflow/models.git\n",
        "\n",
        "# 3. Install the required libraries for the API. The libraries are installed\n",
        "#    from the setup.py.\n",
        "\n",
        "# 3a. First we shall move into research/models, this is where the setup.py script\n",
        "#     is stored.\n",
        "%cd models/research\n",
        "\n",
        "# 3b. This commands the environment to run the setup.py script if it exists.\n",
        "!pip install .\n",
        "\n",
        "# 4. Install TF-Slim, a lightweight library for defining, training and evaluating complex models in TensorFlow.\n",
        "!pip install tf_slim\n",
        "\n",
        "# 5. Move back to the object_detection folder.\n",
        "%cd ../../"
      ],
      "execution_count": null,
      "outputs": []
    },
    {
      "cell_type": "markdown",
      "metadata": {
        "id": "S2_o3T5ift28",
        "colab_type": "text"
      },
      "source": [
        "<a name=\"workspace-preparation\"></a>\n",
        "## Workspace Preparation\n",
        "Object detection tasks like other advanced deep learning tasks require a particular folder set up to successfully train a given model. Each model has a particular folder set up that it expects, it is therefore important to find out what kind of set up a given model expects.\n",
        "***\n",
        "In this tutorial, we shall use the [Tensorflow Object Detection API](https://github.com/tensorflow/models/tree/master/research/object_detection), so we shall set up the workspace as this model expects.\n",
        "<br>\n",
        "At this stage, our directory should be as below;\n",
        "\n",
        "\n",
        "```\n",
        "object_detection\n",
        "├─ models\n",
        "│   ├─ community\n",
        "│   ├─ research\n",
        "│   └─ etc\n",
        "```\n",
        "Click on the file icon ![Annotation 2020-08-12 141640.png](data:image/png;base64,iVBORw0KGgoAAAANSUhEUgAAABQAAAAPCAYAAADkmO9VAAAAAXNSR0IArs4c6QAAAARnQU1BAACxjwv8YQUAAAAJcEhZcwAADsMAAA7DAcdvqGQAAACxSURBVDhP7ZMxDsMgDEVN1SkrWZOVMzFyCQ6R05A5d2DlAKxhZKYYuVVLW4FUxj7JsmzjLzAySxkYyIX8MB43PM8TQggl+cyyLDBNE0VtiiCKaa0p9cq6rqXWK1oE930HtG/M81zsE/gCKSVF1QyxKIR4M8454GRqizHCcRxgrSWFTC4kY0xSSiXnHIbd4Hnsw/47w3/5L/g7wwWv5Avee2CMUdQGz9c0V6+HbdtokwBuNVWT0VrPI1oAAAAASUVORK5CYII=), in the left pane to explore the file directory."
      ]
    },
    {
      "cell_type": "markdown",
      "metadata": {
        "id": "rvWJcWLWmuSb",
        "colab_type": "text"
      },
      "source": [
        "The goal is to have the following folder structure;\n",
        "```\n",
        "object_detection\n",
        "├─ models\n",
        "│   ├─ official\n",
        "│   ├─ research\n",
        "│   ├─ samples\n",
        "│   └─ tutorials\n",
        "└─ workspace\n",
        "    └─ data\n",
        "```\n",
        "where the `workspace/data` folder is the folder that will contain all our training files. Under the `data` folder, we shall a couple of folders listed below to have the final structure as shown;\n",
        "```\n",
        "data\n",
        "├─ annotations\n",
        "├─ images\n",
        "│   ├─ test\n",
        "│   └─ train\n",
        "├─ pre-trained-model\n",
        "└─ training\n",
        "```\n",
        "**Notes**:\n",
        "\n",
        "---\n",
        "\n",
        "`annotations`: This folder stores all \\*.csv files and the respective TensorFlow \\*.record files, which contain the list of annotations for dataset images.\n",
        "\n",
        "`images`: This folder contains a copy of all the images in our dataset.\n",
        "\n",
        "`images\\train`: This folder contains a copy of all images.\n",
        "\n",
        "`images\\test`: This folder contains a copy of all images.\n",
        "\n",
        "`pre-trained-model`: This folder will contain the pre-trained model of your choice, which shall be used as a starting checkpoint for the training job.\n",
        "\n",
        "`training`: This folder will contain the training pipeline configuration file \\*.config, as well as a \\*.pbtxt label map file and all files generated during the training of our model."
      ]
    },
    {
      "cell_type": "markdown",
      "metadata": {
        "id": "h8S3yoPqn4o8",
        "colab_type": "text"
      },
      "source": [
        "Now let's set up as explained above."
      ]
    },
    {
      "cell_type": "code",
      "metadata": {
        "id": "rkgr3T1eev86",
        "colab_type": "code",
        "colab": {}
      },
      "source": [
        "# 1. First, we shall find out where in the file system we are currently,\n",
        "#    this is done using !pwd command.\n",
        "!pwd"
      ],
      "execution_count": null,
      "outputs": []
    },
    {
      "cell_type": "code",
      "metadata": {
        "id": "VoewppnwoP2z",
        "colab_type": "code",
        "colab": {}
      },
      "source": [
        "# 2. We are creating the workspace under the object_detection folder, \n",
        "#    so let's go ahead and create it.\n",
        "!mkdir workspace\n",
        "\n",
        "# 3. We shall lso create the data folder.\n",
        "!mkdir workspace/data"
      ],
      "execution_count": null,
      "outputs": []
    },
    {
      "cell_type": "code",
      "metadata": {
        "id": "H7uP42_So5tu",
        "colab_type": "code",
        "colab": {}
      },
      "source": [
        "# 4. For the subfolders under data folder, take care not to/or to create them\n",
        "#    considering the folder structure of your dataset. Some datasets, especially\n",
        "#    those that follow the COCO format, are usually saved in the structure \n",
        "#    defined above, with the images split into the test and train set, and the labels\n",
        "#    stored under the annotations set.\n",
        "\n",
        "# [TODO]\n",
        "# Create the remaining folders under the data/annotations\n",
        "# The folders are listed below:\n",
        "#     1. workspace/data/annotations\n",
        "#     2. workspace/data/images\n",
        "#     3. workspace/data/images/train \n",
        "#     4. workspace/data/images/test \n",
        "#     5. workspace/data/pre-trained-model\n",
        "#     6. workspace/data/training"
      ],
      "execution_count": null,
      "outputs": []
    },
    {
      "cell_type": "markdown",
      "metadata": {
        "id": "hmZuzXF1rIyl",
        "colab_type": "text"
      },
      "source": [
        "Click on the file icon, ![Annotation 2020-08-12 141640.png](data:image/png;base64,iVBORw0KGgoAAAANSUhEUgAAABQAAAAPCAYAAADkmO9VAAAAAXNSR0IArs4c6QAAAARnQU1BAACxjwv8YQUAAAAJcEhZcwAADsMAAA7DAcdvqGQAAACxSURBVDhP7ZMxDsMgDEVN1SkrWZOVMzFyCQ6R05A5d2DlAKxhZKYYuVVLW4FUxj7JsmzjLzAySxkYyIX8MB43PM8TQggl+cyyLDBNE0VtiiCKaa0p9cq6rqXWK1oE930HtG/M81zsE/gCKSVF1QyxKIR4M8454GRqizHCcRxgrSWFTC4kY0xSSiXnHIbd4Hnsw/47w3/5L/g7wwWv5Avee2CMUdQGz9c0V6+HbdtokwBuNVWT0VrPI1oAAAAASUVORK5CYII=) to explore the folder directory."
      ]
    },
    {
      "cell_type": "markdown",
      "metadata": {
        "id": "2srf1roZrY7Y",
        "colab_type": "text"
      },
      "source": [
        "Your directory should look as below; <br>\n",
        "![Screenshot from 2020-08-20 00-40-33.png](data:image/png;base64,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)"
      ]
    },
    {
      "cell_type": "markdown",
      "metadata": {
        "id": "2FM4DkdArw0B",
        "colab_type": "text"
      },
      "source": [
        "The workspace folders are now set."
      ]
    },
    {
      "cell_type": "markdown",
      "metadata": {
        "id": "e0vUPzRxtjDP",
        "colab_type": "text"
      },
      "source": [
        "## Dataset upload to the workspace.\n",
        "You are provided with a small dataset containing about 100 images of diseased leaves of passion fruits under the folder.\n",
        "- Upload the zipped file to the work environment.\n",
        "- Unzip the file, you should get a new folder named `dataset` with a subfolder `images` and a file `labels.json`."
      ]
    },
    {
      "cell_type": "code",
      "metadata": {
        "id": "Vi3WU1CSrIHJ",
        "colab_type": "code",
        "colab": {}
      },
      "source": [
        "# 1. The dataset is uploaded to the content directory, to unzip it, we have two \n",
        "#    options, either to move back in the directory tree or use the full path.\n",
        "# We shall use the full path in this notebook.\n",
        "!unzip /content/dataset.zip\n",
        "\n",
        "# This function, unzips the folder to your current directory, so it is important\n",
        "# to always know, where you are in the directory tree.\n",
        "# Use the !pwd command to find out."
      ],
      "execution_count": null,
      "outputs": []
    },
    {
      "cell_type": "markdown",
      "metadata": {
        "id": "g785S-HczhPg",
        "colab_type": "text"
      },
      "source": [
        "The dataset folder structure is as defined below;\n",
        "```\n",
        "dataset\n",
        "├─ labels.json\n",
        "└─ images\n",
        "```\n",
        "---\n",
        "-`images` folder contains the image files.\n",
        "- `labels.json` contains the labels for each image in the COCO label format."
      ]
    },
    {
      "cell_type": "markdown",
      "metadata": {
        "id": "ci9sCllJf1zX",
        "colab_type": "text"
      },
      "source": [
        "## Converting to TFRecords.\n",
        "Finally, for this notebook, we shall convert the dataset to TFRecords. This is quite a process with lots of steps. The steps are listed below: <br>\n",
        "**Steps:**\n",
        "1. Install `protobufs` software libraries. _(More about protobufs will be explained [shortly](#protobufs))._\n",
        "2. Define helper functions.\n",
        "3. Split the dataset into the test and train set.\n",
        "4. Create the respective labels.csv for the test and train set.\n",
        "5. Move files to the respective prepared directories.\n",
        "6. Generate TFRecords from the datasets.\n"
      ]
    },
    {
      "cell_type": "markdown",
      "metadata": {
        "id": "Ov5OwpCIr-Up",
        "colab_type": "text"
      },
      "source": [
        "<a name=\"protobufs\"></a>\n",
        "### 1. Install `protobufs` software libraries.\n",
        "Tensorflow Object Detection API uses Protobufs to configure model and training parameters. The Protobuf libraries must be installed to use the framework.\n",
        "\n",
        "Notes on Protobufs:\n",
        "\n",
        "\n",
        "---\n",
        "\n",
        "*Protobufs*, or a serialized protocol buffer is a portable, extensible and efficient binary format developed by Google. Protobufs are defined by a simple language format (similar in syntax to a `C/C++ struct`) as defined below:\n",
        "```\n",
        "syntax: \"proto3\"\n",
        "message Person {\n",
        "  string name: 1;\n",
        "  int32 id: 2;\n",
        "  repeated string email:3;\n",
        "}\n",
        "```\n",
        "This definition specifies the use of version 3 of `protobuf`, and specifies the each `Person` object may optionally have a `name` of type `string`, an `id` of `int32` and an `email` of type `string`. The numbers 1 to 3 are field identifiers used in each records binary representation. This definition can be saved in `.proto` file and compiled.\n",
        "\n",
        "## Tensorflow Protobufs\n",
        "Tensorflow primarily uses the `Example` protobuf, which represents a single instance in a dataset. It contains a list of named features, with each feature being either a list of byte strings, a list of floats, or a list of floats. An example is shown below:\n",
        "```\n",
        "syntax = \"proto3\";\n",
        "message BytesList { repeated bytes value = 1; }\n",
        "message FloatList { repeated float value = 1 [packed = true]; }\n",
        "message Int64List { repeated int64 value = 1 [packed = true]; }\n",
        "message Feature {\n",
        "  oneof kind {\n",
        "    BytesList bytes_list = 1;\n",
        "    FloatList float_list = 2;\n",
        "    Int64List int64_list = 3;\n",
        "    }\n",
        "};\n",
        "message Features { map<string, Feature> feature = 1; };\n",
        "message Example { Features features = 1; };\n",
        "```\n",
        "`[packed = true]` is used for repeated numerical fields to enusre efficient encoding.\n",
        "\n",
        "---\n",
        "\n",
        "Further reading:\n",
        "1. [https://homl.info/protobuf](https://homl.info/protobuf)\n",
        "2. Chapter 13: Hands-on Machine Learning with Scikit-Learn, Keras & TensorFlow by `Aurélien Géron`"
      ]
    },
    {
      "cell_type": "code",
      "metadata": {
        "id": "3yyGMvzLr7Ob",
        "colab_type": "code",
        "colab": {}
      },
      "source": [
        "#@title [IMPORTANT] Run Cell To Install Protobufs {display-mode: \"form\"}\n",
        "%%capture\n",
        "%cd models/research;\n",
        "!protoc object_detection/protos/*.proto --python_out=.;\n",
        "\n",
        "pwd = os.getcwd();\n",
        "\n",
        "# Add TF_slim to the system path.\n",
        "os.environ['PYTHONPATH'] += f':{pwd}:{pwd}/slim';\n",
        "\n",
        "# Move back to the content/object_detection folder\n",
        "%cd ../../"
      ],
      "execution_count": null,
      "outputs": []
    },
    {
      "cell_type": "markdown",
      "metadata": {
        "id": "v9nVdPfZxsCe",
        "colab_type": "text"
      },
      "source": [
        "### 3. Define helper functions.\n",
        "Helper functions are useful to perform data preparation tasks including splitting data, changing data from one format to another, visualizing the data among other functions.\n",
        "***\n",
        "Functions defined below:\n",
        "1. `split_files(file_names,train=0.8, test=0.2, validate=0.0)`: splits a list of file names into lists of test and train file names.\n",
        "2. `json_to_csv(file_names, images_dir, labels_path, annotations_dir, label_file_name)`: converts the labels.json into a .csv file.\n",
        "3. `create_pbtxt(annotations_dir)`: creates the label map file.\n",
        "4. `create_tfrecord(labels_file, images_dir, annotations_dir)`: creates TFRecords for the dataset.\n",
        "    "
      ]
    },
    {
      "cell_type": "code",
      "metadata": {
        "id": "dehHdrOux_LW",
        "colab_type": "code",
        "colab": {}
      },
      "source": [
        "#@title [IMPORTANT] Run Cell To Intialize Helper Functions. {display-mode: \"form\"}\n",
        "import json\n",
        "import os\n",
        "import glob\n",
        "import io\n",
        "import xml.etree.ElementTree as ET\n",
        "import argparse\n",
        "from pathlib import Path\n",
        "import numpy as np\n",
        "from shutil import copyfile\n",
        "import csv\n",
        "import pandas as pd\n",
        "from PIL import Image\n",
        "from tqdm import tqdm\n",
        "import tensorflow.compat.v1 as tf\n",
        "from object_detection.utils import dataset_util\n",
        "from collections import namedtuple\n",
        "\n",
        "def split_indices(x, train=0.8, test=0.0, validate=0.2, shuffle=True):\n",
        "    \"\"\"\n",
        "      Returns the indices at which the data is split.\n",
        "    \"\"\"\n",
        "    # split training data\n",
        "    n = len(x)\n",
        "    v = np.arange(n)\n",
        "    if shuffle:\n",
        "        np.random.shuffle(v)\n",
        "\n",
        "    i = round(n * train)  # train\n",
        "    j = round(n * test) + i  # test\n",
        "    k = round(n * validate) + j  # validate\n",
        "    return v[:i], v[i:j], v[j:k]  # return indices\n",
        "\n",
        "def split_files(file_names,train=0.8, test=0.2, validate=0.0):\n",
        "    \"\"\"\n",
        "      Split the files provided according to the specified distributions.\n",
        "\n",
        "      file_names  this is a list of file names that are split.\n",
        "      train       the distribution for the train files, 0 <= x <= 1\n",
        "      test        the distribution for the test files, it should complement train to add to one.\n",
        "                  i.e. if train is 0.8, test should be 0.2 such that 0.8 + 0.2 = 1.0\n",
        "      validate    this is the distribution for the validation set, it should also \n",
        "                  complement the train and test values i.e if train is 0.8, test is 0.1, validate\n",
        "                  should be 0.1 such that 0.8 + 0.1 + 0.1 = 1.0\n",
        "\n",
        "      Returns:\n",
        "        (tuple) train, test, val\n",
        "                train   a list containing the file names of the train set\n",
        "                test    a list containing the file names of the test set\n",
        "                val     a list containing the file name of the validation set\n",
        "    \"\"\"\n",
        "    # split training data\n",
        "    file_name = list(filter(lambda x: len(x) > 0, file_names))\n",
        "    file_name = sorted(file_name)\n",
        "    i, j, k = split_indices(file_names, train=train, test=test, validate=validate)\n",
        "    train = []\n",
        "    test = []\n",
        "    val = []\n",
        "    datasets = {'train': i, 'test': j, 'val': k}\n",
        "    for key, item in datasets.items():\n",
        "        if item.any():\n",
        "            for ix in item:\n",
        "                if key == 'train':\n",
        "                    train.append(file_names[ix])\n",
        "                if key == 'test':\n",
        "                    test.append(file_names[ix])\n",
        "                if key == 'val':\n",
        "                    val.append(file_names[ix])\n",
        "\n",
        "    return train, test, val\n",
        "\n",
        "def json_to_csv(file_names, images_dir, labels_path, annotations_dir, label_file_name):\n",
        "  \"\"\"\n",
        "  Converts a JSON file to a csv file.\n",
        "\n",
        "  file_names       list of file names.\n",
        "  images_dir       path to the images directory\n",
        "  labels_path      is the path to the labels JSON file.\n",
        "  annotations_dir  is the directory in which the annotations will be stored.\n",
        "  label_file_name  is the name of the output .csv file i.e. labels_train.csv\n",
        "  \"\"\"\n",
        "  # Load coco file\n",
        "  f = open(labels_path, 'r')\n",
        "  COCO_DATA = json.load(f)\n",
        "  f.close()\n",
        "\n",
        "  images = COCO_DATA[\"images\"]\n",
        "  annotations = COCO_DATA[\"annotations\"]\n",
        "      \n",
        "  # Generating the csv in the annotations folder under data directory. (Ideally)\n",
        "  csv_file_name = os.path.join(str(annotations_dir), label_file_name)\n",
        "\n",
        "  class_name = 'brownspot' # Normally, there will be more than one class, extract accordingly.\n",
        "\n",
        "  with open(csv_file_name, 'w') as csv_label_file:\n",
        "    f = csv.writer(csv_label_file)\n",
        "    f.writerow(['file_name', 'width', 'height', 'class', 'xmin', 'ymin', \n",
        "                'xmax', 'ymax'])\n",
        "\n",
        "    for file_name in tqdm(file_names, desc = \"Images\"):\n",
        "        id = None\n",
        "        for image in images:\n",
        "          if file_name == image['file_name']:\n",
        "            id = image['id']\n",
        "\n",
        "        im = Image.open(os.path.join(images_dir, file_name))\n",
        "        width, height = im.size\n",
        "\n",
        "        for annotation in annotations:\n",
        "            if id == annotation['image_id']:\n",
        "                bbox = annotation['bbox']\n",
        "\n",
        "                # COCO bbox label format: [xmin, ymin, width, height]\n",
        "                xmin = bbox[0]\n",
        "                xmax = bbox[0] + bbox[2]\n",
        "                ymin = bbox[1]\n",
        "                ymax = bbox[1] + bbox[3]\n",
        "\n",
        "                # Write to .csv file.\n",
        "                f.writerow([file_name, width, height, class_name, xmin, ymin, xmax, ymax])  \n",
        "\n",
        "def create_pbtxt(annotations_dir):\n",
        "  \"\"\"\n",
        "    Creates a pbtxt file.\n",
        "\n",
        "    TensorFlow requires a label map, which maps each of the used labels \n",
        "    to an integer values. This label map is used both by the training and detection \n",
        "    processes. Notice the labels are one-indexed i.e. start at 1 (one).\n",
        "\n",
        "    Example:\n",
        "    # example.pbtxt\n",
        "    item {\n",
        "      id: 1\n",
        "      name: 'cat'\n",
        "    }\n",
        "\n",
        "    item {\n",
        "      id: 2\n",
        "      name: 'dog'\n",
        "    }\n",
        "\n",
        "    The file is stored under the annotations folder.\n",
        "  \"\"\"\n",
        "  # Create the label map\n",
        "  label_map_path = os.path.join(annotations_dir, \"label_map.pbtxt\")\n",
        "  pbtxt_content = \"\"\n",
        "\n",
        "  class_name = 'brownspot' # Could be more than one class name.\n",
        "\n",
        "  pbtxt_content = (\n",
        "      pbtxt_content\n",
        "      + \"item {{\\n    id: {0}\\n    name: '{1}'\\n}}\\n\\n\".format(1, class_name)\n",
        "  )\n",
        "  pbtxt_content = pbtxt_content.strip()\n",
        "  with open(label_map_path, \"w\") as f:\n",
        "      f.write(pbtxt_content)\n",
        "\n",
        "def move_files(files, source, dest):\n",
        "  \"\"\"Move files from the source directory to the destination directory.\"\"\"\n",
        "  for filename in files:\n",
        "    copyfile(os.path.join(source, filename),\n",
        "                 os.path.join(dest, filename))\n",
        "    \n",
        "def class_text_to_int(row_label):\n",
        "  if row_label == 'brownspot': # the respective class_name\n",
        "    return 1\n",
        "  else:\n",
        "    None\n",
        "\n",
        "def split(df, group):\n",
        "    data = namedtuple('data', ['filename', 'object'])\n",
        "    gb = df.groupby(group)\n",
        "    return [data(filename, gb.get_group(x)) for filename, x in zip(gb.groups.keys(), gb.groups)]\n",
        "\n",
        "def create_tf_example(group, path):\n",
        "    with tf.io.gfile.GFile(os.path.join(path, '{}'.format(group.filename)), 'rb') as fid:\n",
        "        encoded_jpg = fid.read()\n",
        "    encoded_jpg_io = io.BytesIO(encoded_jpg)\n",
        "    image = Image.open(encoded_jpg_io)\n",
        "    width, height = image.size\n",
        "\n",
        "    filename = group.filename.encode('utf8')\n",
        "    image_format = b'jpg'\n",
        "    # check if the image format is matching with your images.\n",
        "    xmins = []\n",
        "    xmaxs = []\n",
        "    ymins = []\n",
        "    ymaxs = []\n",
        "    classes_text = []\n",
        "    classes = []\n",
        "\n",
        "    for index, row in group.object.iterrows():\n",
        "        xmins.append(row['xmin'] / width)\n",
        "        xmaxs.append(row['xmax'] / width)\n",
        "        ymins.append(row['ymin'] / height)\n",
        "        ymaxs.append(row['ymax'] / height)\n",
        "        classes_text.append(row['class'].encode('utf8'))\n",
        "        classes.append(class_text_to_int(row['class']))\n",
        "\n",
        "    tf_example = tf.train.Example(features=tf.train.Features(feature={\n",
        "        'image/height': dataset_util.int64_feature(height),\n",
        "        'image/width': dataset_util.int64_feature(width),\n",
        "        'image/filename': dataset_util.bytes_feature(filename),\n",
        "        'image/source_id': dataset_util.bytes_feature(filename),\n",
        "        'image/encoded': dataset_util.bytes_feature(encoded_jpg),\n",
        "        'image/format': dataset_util.bytes_feature(image_format),\n",
        "        'image/object/bbox/xmin': dataset_util.float_list_feature(xmins),\n",
        "        'image/object/bbox/xmax': dataset_util.float_list_feature(xmaxs),\n",
        "        'image/object/bbox/ymin': dataset_util.float_list_feature(ymins),\n",
        "        'image/object/bbox/ymax': dataset_util.float_list_feature(ymaxs),\n",
        "        'image/object/class/text': dataset_util.bytes_list_feature(classes_text),\n",
        "        'image/object/class/label': dataset_util.int64_list_feature(classes),\n",
        "    }))\n",
        "    return tf_example\n",
        "\n",
        "def create_tfrecord(labels_file, images_dir, annotations_dir):\n",
        "  \"\"\"\n",
        "    Create a tfrecord from the .csv file.\n",
        "  \"\"\"\n",
        "  csv_name = labels_file.split('/')[-1][:-4]\n",
        "  writer = tf.io.TFRecordWriter(os.path.join(annotations_dir, csv_name + '.record'))\n",
        "  path = os.path.join(images_dir)\n",
        "  examples = pd.read_csv(labels_file)\n",
        "  grouped = split(examples, 'file_name')\n",
        "  for group in grouped:\n",
        "    tf_example = create_tf_example(group, path)\n",
        "    writer.write(tf_example.SerializeToString())\n",
        "  writer.close()\n",
        "  print('Successfully created the TFRecords: {}'.format(csv_name + '.record'))"
      ],
      "execution_count": null,
      "outputs": []
    },
    {
      "cell_type": "markdown",
      "metadata": {
        "id": "mMeIFZ8jupIy",
        "colab_type": "text"
      },
      "source": [
        "### 2. Split the dataset into the test and train set.\n",
        "For any machine learning task, it is important to set split a dataset into a test and train set, the train set is used to train the model and the test set is used to test the model."
      ]
    },
    {
      "cell_type": "code",
      "metadata": {
        "id": "2hTlhg7-uodf",
        "colab_type": "code",
        "colab": {}
      },
      "source": [
        "# 1. Get the list of the files in the images directory.\n",
        "files = os.listdir('/content/object_detection/dataset/images')"
      ],
      "execution_count": null,
      "outputs": []
    },
    {
      "cell_type": "code",
      "metadata": {
        "id": "gBBoUifAt1d6",
        "colab_type": "code",
        "colab": {}
      },
      "source": [
        "# [TODO]\n",
        "# 2. Split the dataset into the test and train using the split_files function\n",
        "\n",
        "# Hint:\n",
        "# Run split_files? to understand how the function works and what it returns."
      ],
      "execution_count": null,
      "outputs": []
    },
    {
      "cell_type": "code",
      "metadata": {
        "id": "8gd8ThxOf1Xn",
        "colab_type": "code",
        "colab": {}
      },
      "source": [
        "# [TODO]\n",
        "# Check that the train and test sets are split according to your selected \n",
        "# distributions."
      ],
      "execution_count": null,
      "outputs": []
    },
    {
      "cell_type": "markdown",
      "metadata": {
        "id": "sLt05mY8IBdI",
        "colab_type": "text"
      },
      "source": [
        "### 4. Create the respective labels.csv for the test and train set.\n",
        "Here, we call the `json_to_csv` function to convert the labels from `.json` file format to `.csv` format. Under this section, we shall also create the `.pbtxt` label map, a label map is simply a file that maps an integer id to name, say if we have two classes, dog and cat, then we can map cat to '1' and dog to '2' as below.\n",
        "```\n",
        "item {\n",
        "  id: 1\n",
        "  name: 'cat'\n",
        "}\n",
        "\n",
        "item {\n",
        "  id: 2\n",
        "  name: 'dog'\n",
        "}\n",
        "```"
      ]
    },
    {
      "cell_type": "code",
      "metadata": {
        "id": "gviBP6qIqYh1",
        "colab_type": "code",
        "colab": {}
      },
      "source": [
        "# train_labels.csv\n",
        "# 1. Initialize the variable arguments for the conversion function.\n",
        "images_dir = r'/content/object_detection/dataset/images'\n",
        "annotations_dir = r'/content/object_detection/workspace/data/annotations'\n",
        "labels_path = r'/content/object_detection/dataset/labels.json'\n",
        "label_file_name = 'train_labels.csv'\n",
        "\n",
        "# 2. Call the conversion function.\n",
        "json_to_csv(train, images_dir, labels_path, annotations_dir, label_file_name)"
      ],
      "execution_count": null,
      "outputs": []
    },
    {
      "cell_type": "code",
      "metadata": {
        "id": "m01sStk0JmNP",
        "colab_type": "code",
        "colab": {}
      },
      "source": [
        "# [TODO]\n",
        "# 3. Perform the conversion for the test set."
      ],
      "execution_count": null,
      "outputs": []
    },
    {
      "cell_type": "markdown",
      "metadata": {
        "id": "UcDIEPZENE01",
        "colab_type": "text"
      },
      "source": [
        "The `workspace\\data\\annotations` folder should now contain two files.\n",
        "1. `train_labels.csv`\n",
        "2. `test_labels.csv`"
      ]
    },
    {
      "cell_type": "code",
      "metadata": {
        "id": "WsPKDzmyP24S",
        "colab_type": "code",
        "colab": {}
      },
      "source": [
        "# Finally, we create the pbtxt file.\n",
        "create_pbtxt(annotations_dir)"
      ],
      "execution_count": null,
      "outputs": []
    },
    {
      "cell_type": "markdown",
      "metadata": {
        "id": "2iX4DaUhQA7o",
        "colab_type": "text"
      },
      "source": [
        "The `workspace\\data\\annotations` should also contain the `label_map.pbtxt` file."
      ]
    },
    {
      "cell_type": "markdown",
      "metadata": {
        "id": "LXBCvfUaLlQY",
        "colab_type": "text"
      },
      "source": [
        "### 5. Move files to the respective prepared directories.\n",
        "In this section, we move the image files from the `dataset` directory to the `images` directory that we created earlier under the `data` folder in the [Workspace Preparation Section.](#workspace-preparation)\n",
        "***\n",
        "Note:\n",
        "- The train images are moved to the `images/train` subfolder, while the test images are moved to the `images\\test` subfolder."
      ]
    },
    {
      "cell_type": "code",
      "metadata": {
        "id": "u7Z0veTuLAAL",
        "colab_type": "code",
        "colab": {}
      },
      "source": [
        "# 1. First we move the train files.\n",
        "source = r'/content/object_detection/dataset/images'\n",
        "dest = r'/content/object_detection/workspace/data/images/train' # train subfolder\n",
        "move_files(train, source, dest)"
      ],
      "execution_count": null,
      "outputs": []
    },
    {
      "cell_type": "code",
      "metadata": {
        "id": "PKpHl7LIOTAi",
        "colab_type": "code",
        "colab": {}
      },
      "source": [
        "# [TODO]\n",
        "# 2. Move the test files from dataset/images to workspace/data/images/test"
      ],
      "execution_count": null,
      "outputs": []
    },
    {
      "cell_type": "markdown",
      "metadata": {
        "id": "iQoNMUuZQgSv",
        "colab_type": "text"
      },
      "source": [
        "### 6. Generate TFRecords from the datasets.\n",
        "In the final subsection, we shall create the TFRecords."
      ]
    },
    {
      "cell_type": "code",
      "metadata": {
        "id": "t8XvZkN_Ovvk",
        "colab_type": "code",
        "colab": {}
      },
      "source": [
        "# 1. Create the TFRecords for the train set.\n",
        "labels_file = r'/content/object_detection/workspace/data/annotations/train_labels.csv'\n",
        "train_dir = r'/content/object_detection/workspace/data/images/train' # Train image directory\n",
        "create_tfrecord(labels_file, train_dir, annotations_dir)"
      ],
      "execution_count": null,
      "outputs": []
    },
    {
      "cell_type": "code",
      "metadata": {
        "id": "2Nk6BxjZR8kt",
        "colab_type": "code",
        "colab": {}
      },
      "source": [
        "# [TODO]\n",
        "# 2. Using the create_tfrecord function, create the TFRecords for the test set."
      ],
      "execution_count": null,
      "outputs": []
    },
    {
      "cell_type": "markdown",
      "metadata": {
        "id": "MxMtyaAdUy7O",
        "colab_type": "text"
      },
      "source": [
        "## Recap\n",
        "In this notebook, we were able to;\n",
        "1. Install the Tensorflow Object Detection API library.\n",
        "2. Prepare our workspace, creating the different folders etc.\n",
        "3. Upload our dataset to the workspace.\n",
        "4. Convert our dataset and labels to TFRecords.\n",
        "\n",
        "In the next notebook, we shall use the `.record` files to train an object detection model."
      ]
    }
  ]
}