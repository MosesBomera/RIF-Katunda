{
  "nbformat": 4,
  "nbformat_minor": 0,
  "metadata": {
    "colab": {
      "name": "Object Detection: Data Parsing and Visualization (Part One).ipynb",
      "provenance": [],
      "collapsed_sections": [],
      "toc_visible": true
    },
    "kernelspec": {
      "name": "python3",
      "display_name": "Python 3"
    }
  },
  "cells": [
    {
      "cell_type": "markdown",
      "metadata": {
        "id": "zattD8Uk-w68",
        "colab_type": "text"
      },
      "source": [
        "# Object Detection\n",
        "1. A basic understanding of python programming and deep learning.\n",
        "\n",
        "Check out this [tutorial](https://makmlclub.github.io/colab.html) to get familiar with Colab, and deep learning basics.\n",
        "\n",
        "---\n",
        "Notes on Object detection: </br>\n",
        "[Object detection](https://en.wikipedia.org/wiki/Object_detection) is a machine learning technique under computer vision that involves locating the presence of objects with a bounding box and types or classes of the located objects in an image.\n",
        "*   Input: An image with one or more objects, such as a photograph.\n",
        "*   Output: One or more bounding boxes (e.g. defined by a point, width, and height), and a class label for each bounding box.\n",
        "\n",
        "In this notebook, we start off with data visualization for object detection.</br>\n",
        "**Highlights**\n",
        "* Plotting dataset images with the corresponding bounding boxes.\n",
        "* Converting bounding boxes among the different labelling formats.\n"
      ]
    },
    {
      "cell_type": "markdown",
      "metadata": {
        "id": "yVRRyayGCLlw",
        "colab_type": "text"
      },
      "source": [
        "## Notes on Labeling Formats\n",
        "Listed below are some of the popular labelling formats and how they are used.\n",
        "* The `coco` format [x_min, y_min, width, height], e.g. [97, 12, 150, 200].\n",
        "* The `pascal_voc` format [x_min, y_min, x_max, y_max], e.g. [97, 12, 247, 212].\n",
        "* The `albumentations` format is like pascal_voc, but normalized, in other words: [x_min,\n",
        "y_min, x_max, y_max]‘, e.g. [0.2, 0.3, 0.4, 0.5].\n",
        "* The `yolo` format [x, y, width, height], e.g. [0.1, 0.2, 0.3, 0.4]; x, y - normalized bbox center;\n",
        "width, height - normalized bbox width and height.\n",
        "\n",
        "Further Reading:\n",
        "1. [https://www.immersivelimit.com/tutorials/create-coco-annotations-from-scratch](https://www.immersivelimit.com/tutorials/create-coco-annotations-from-scratch)"
      ]
    },
    {
      "cell_type": "markdown",
      "metadata": {
        "id": "3wPiKEc0C30I",
        "colab_type": "text"
      },
      "source": [
        "# Data Loading\n",
        "Along with this notebook, a labeled dataset is provided. The labels are included in [`JSON`](https://www.tutorialspoint.com/json/index.htm) file from [Labelbox](https://labelbox.com). In this section, we shall load the dataset.zip file.\n",
        "\n",
        "The dataset directory tree is as below:\n",
        "```\n",
        "dataset\n",
        "├─ labels.json\n",
        "└─ images\n",
        "```\n",
        "\n",
        "---\n",
        "**TODO:**\n",
        "1. Upload the attached `dataset.zip` file into the current working directory.\n",
        "2. Unzip the file.\n",
        "\n",
        "---\n",
        "\n",
        "**TODO Walk Through:**\n",
        "2. Notebooks allow the use of terminal commands, however such commands have to be prefixed with the exclamation mark (!) `i.e. !mkdir directory`\n"
      ]
    },
    {
      "cell_type": "code",
      "metadata": {
        "id": "JOCgrV51-lmt",
        "colab_type": "code",
        "colab": {}
      },
      "source": [
        "# TODO\n",
        "# 1. Upload the attached dataset zipped file."
      ],
      "execution_count": null,
      "outputs": []
    },
    {
      "cell_type": "code",
      "metadata": {
        "id": "Vf2UxA_s-viU",
        "colab_type": "code",
        "colab": {}
      },
      "source": [
        "# TODO\n",
        "# 2. Unzip the uploaded file, using the unzip command."
      ],
      "execution_count": null,
      "outputs": []
    },
    {
      "cell_type": "markdown",
      "metadata": {
        "id": "R1cW1Aja-qxK",
        "colab_type": "text"
      },
      "source": [
        "# Data Parsing\n",
        "The unzipped dataset directory contains a `labels.json`. This file was created using Labelbox which uses a similar format to the `coco` format, but using different keys i.e. `xmin` and `ymin` are represented by `left` and `top` respectively. For this notebook, only `External ID`, `value`, `bbox` keys will be used.\n",
        "\n",
        "Notes on JSON: </br>\n",
        "JSON (JavaScript Object Notation) is a lightweight data-interchange format. It is easy for humans to read and write. It is easy for machines to parse and generate.\n",
        "```\n",
        "Sample JSON format.\n",
        "{'key': 'value'}\n",
        "{\n",
        "  'name': 'Doe',\n",
        "  'age': 23\n",
        "}\n",
        "```\n",
        "In the above format, `name` and `age` are the keys, while `Doe` and `23` are the values. The labels.json takes the same format with alot more key and value pairs.\n",
        "\n",
        "\n",
        "Generally a bounding box  is defined as follows:\n",
        "```\n",
        "bbox = ['xmin', 'ymin', 'width', 'height']\n",
        "```\n",
        "**NOTE: `xmin` and `ymin` refer to the top left axis of the image.**\n",
        "\n",
        "---\n",
        "TODO:\n",
        "1. Open the `labels.json` file on your local computer using a text editor, and familiarize yourself with the key value pairs. \n",
        "2. Find the `objects` key under which you will find a list of each image and a bounding box, one at a time.\n"
      ]
    },
    {
      "cell_type": "markdown",
      "metadata": {
        "id": "fBLwTnHpOUbx",
        "colab_type": "text"
      },
      "source": [
        "## Load and Parse the `.json` File\n",
        "From the labels.json, we extract a couple of key value pairs and shall them in a [pandas.DataFrame](https://pandas.pydata.org/pandas-docs/stable/reference/api/pandas.DataFrame.html) in our working environment.\n",
        "\n",
        "---\n",
        "**TODO:**\n",
        "1. Write a function to extract the following keys and values for each image object from the `.json` file. `External ID`, `value` and `bbox`. The extracted values should be stored in `pandas.DataFrame`.\n",
        "\n",
        "---\n",
        "**TODO Walk Through:**\n",
        "1. This function takes the a json object of the `.json` object as an argument, extracts the key and value pairs and returns a `pandas.DataFrame`.\n",
        "\n",
        "* Start by initailizing an empty pandas dataframe with the following columns\n",
        "```\n",
        "['file_name', 'class', 'xmin', 'ymin', 'width', 'height']\n",
        "```\n",
        "External ID == file_name, class == value, bbox contains the bounding box information, `xmin` etc.\n",
        "* Using a loop extract the image data, please refer to this https://labelbox.com/docs/exporting-data/export-format-detail for the particular keys to use.\n",
        "* Append each extraction to the dataframe.\n",
        "* Return the dataframe.\n",
        "---\n",
        "Further Reading:\n",
        "1. https://docs.python.org/3/library/json.html\n",
        "2. https://labelbox.com/docs/exporting-data/export-format-detail\n"
      ]
    },
    {
      "cell_type": "code",
      "metadata": {
        "id": "DAa5QBV2GY8o",
        "colab_type": "code",
        "colab": {}
      },
      "source": [
        "# Utility imports\n",
        "import os\n",
        "import json\n",
        "import pandas as pd\n",
        "\n",
        "def load_json(path_to_json):\n",
        "  \"\"\"\n",
        "  This function loads a .json file and returns a json object.\n",
        "  \"\"\"\n",
        "  data = dict()\n",
        "  if os.path.isfile(path_to_json):\n",
        "    f = open(path_to_json, 'r')\n",
        "    data = json.load(f)\n",
        "    f.close()\n",
        "  return data"
      ],
      "execution_count": null,
      "outputs": []
    },
    {
      "cell_type": "code",
      "metadata": {
        "id": "l-NGXIziTGtp",
        "colab_type": "code",
        "colab": {}
      },
      "source": [
        "# TODO:\n",
        "# 1. Write a function to extract the following keys and values for each \n",
        "# image object from the `.json` file. `External ID`, `value` and `bbox`. \n",
        "# The extracted values should be stored in `pandas.DataFrame`.\n",
        "\n",
        "json_object = load_json('path_to_json')\n",
        "\n",
        "def extract_key_value_pairs(json_object):\n",
        "  \"\"\"\n",
        "  This functions takes a json object and returns a dataframe of the required\n",
        "  key value pairs as columns and the values as rows.\n",
        "  \"\"\"\n",
        "  raise NotImplementedError\n",
        "\n",
        "# Remove the raise line, after your implementation for the function to work."
      ],
      "execution_count": null,
      "outputs": []
    },
    {
      "cell_type": "code",
      "metadata": {
        "id": "b1oAFCOogSni",
        "colab_type": "code",
        "colab": {}
      },
      "source": [
        "# Run to view the dataframe.\n",
        "image_data = extract_key_value_pairs(json_object)\n",
        "image_data.head()"
      ],
      "execution_count": null,
      "outputs": []
    },
    {
      "cell_type": "markdown",
      "metadata": {
        "id": "jdsGa9wwQVUB",
        "colab_type": "text"
      },
      "source": [
        "## Create Different Label Formats DataFrames\n",
        "We shall create a `pandas.DataFrame` for both the `coco` format and the `pascal_voc` format. Please refer to the _Notes on Labeling_ for details on labeling formats.\n",
        "\n",
        "---\n",
        "**TODO:**\n",
        "1. Write a function to convert the bounding boxes from the `coco` format to `pascal_voc` format, and returns the corresponding `pandas.DataFrame`.\n",
        "\n",
        "---\n",
        "**TODO Walk Through:** </br>\n",
        "1. The dataframe returned from the `extract_key_value_pairs` function is already in the coco format. \n",
        "We can convert from the `coco` format to `pascal_voc` format by;\n",
        "```\n",
        "xmax = xmin + width\n",
        "ymax = ymin + height\n",
        "```\n",
        "Refer to _Notes on Labeling Formats_ for details."
      ]
    },
    {
      "cell_type": "code",
      "metadata": {
        "id": "xIP5tRg8YhH0",
        "colab_type": "code",
        "colab": {}
      },
      "source": [
        "# The dataframe image_data, contains bounding boxes already in the coco \n",
        "# labelling format.\n",
        "\n",
        "# TODO:\n",
        "# 1. Write a function to convert the bounding boxes from the coco format \n",
        "#    to pascal_voc format.\n",
        "def create_pascal_voc_dataframe(image_data):\n",
        "  \"\"\"\n",
        "  This functions converts the bounding box labels from coco format\n",
        "  to pascal_voc format.\n",
        "  \"\"\"\n",
        "  raise NotImplementedError"
      ],
      "execution_count": null,
      "outputs": []
    },
    {
      "cell_type": "code",
      "metadata": {
        "id": "RKEQE8Jngfie",
        "colab_type": "code",
        "colab": {}
      },
      "source": [
        "# Run to view the output.\n",
        "pascal_voc_dataframe = create_pascal_voc_dataframe(image_data)\n",
        "pascal_voc_dataframe.head()"
      ],
      "execution_count": null,
      "outputs": []
    },
    {
      "cell_type": "markdown",
      "metadata": {
        "id": "Q_VsG2CHcQZK",
        "colab_type": "text"
      },
      "source": [
        "# Plotting images with the bounding boxes.\n",
        "In this section, we shall load the images and plot them with the corresponding bounding boxes.\n",
        "\n",
        "---\n",
        "\n",
        "**TODO:**\n",
        "1. Write a function that takes as arguments `full_filepaths`, `coco_labels_dataframe`, and the `n_images`, the number of images you wish to plot.\n",
        "\n",
        "---\n",
        "\n",
        "**TODO Walk Through:**\n",
        "1. This is a fairly long function, so we shall break it down into three, `process_images`, `display_image`, `display_images`.\n",
        "2. `display_image`, this function displays a single image with it's bounding boxes. This has been implemented for you.\n",
        "3. `display_images`, this function displays `n_images`. This function has also been implemented for you.\n",
        "4. `process_images`, this function extracts the filepaths and bounding boxes for each image and returns a tuple in the format `(full_filepath`, `[list_of_all_bboxes_for_image])`."
      ]
    },
    {
      "cell_type": "code",
      "metadata": {
        "id": "LmxUbrDvcP_N",
        "colab_type": "code",
        "colab": {}
      },
      "source": [
        "# Utility imports\n",
        "from PIL import Image\n",
        "import matplotlib.pyplot as plt\n",
        "import matplotlib.patches as patches"
      ],
      "execution_count": null,
      "outputs": []
    },
    {
      "cell_type": "code",
      "metadata": {
        "id": "q4_yvac0f8m4",
        "colab_type": "code",
        "colab": {}
      },
      "source": [
        "# Display utilities\n",
        "def process_images(filepaths, labels, r_images):\n",
        "  \"\"\"\n",
        "  this function extracts the filepaths and bounding boxes for each image \n",
        "  and returns a tuple in the format \n",
        "  (full_filepath`, `[list_of_all_bboxes_for_image]).\n",
        "  \"\"\"\n",
        "  raise NotImplementedError\n",
        "\n",
        "# display_image and display_images have been implemented for you.\n",
        "def display_image(image, bboxes, subplot):\n",
        "    \"\"\"Display a single image.\"\"\"\n",
        "    ax = plt.subplot(*subplot)\n",
        "    plt.axis('off')\n",
        "    \n",
        "    for bbox in bboxes:\n",
        "        rect = patches.Rectangle((bbox[0], bbox[1]), bbox[2], bbox[3], \\\n",
        "                                 linewidth=1, edgecolor='w', facecolor='none')\n",
        "        ax.add_patch(rect)\n",
        "    ax.imshow(image)\n",
        "    return (subplot[0], subplot[1], subplot[2] + 1)\n",
        "\n",
        "def display_images(files):\n",
        "    \"\"\"Displays a batch of images.\"\"\"\n",
        "    if not isinstance(files, (tuple, list)):\n",
        "      raise TypeError(\"Files should be of type of tuple or list.\")\n",
        "    \n",
        "    rows = int(math.sqrt(len(files)))  \n",
        "    cols = len(files) // rows\n",
        "    \n",
        "    FIGSIZE = 13.0\n",
        "    SPACING = 0.1\n",
        "    \n",
        "    subplot = (rows, cols, 1)\n",
        "    if rows < cols:\n",
        "        plt.figure(figsize=(FIGSIZE, FIGSIZE / cols * rows))\n",
        "    else:\n",
        "        plt.figure(figsize=(FIGSIZE / rows * cols, FIGSIZE))\n",
        "    \n",
        "    for file, bboxes in files[:rows * cols]:\n",
        "        image = Image.open(file)\n",
        "        subplot = display_image(image, bboxes, subplot)\n",
        "        \n",
        "    plt.tight_layout()\n",
        "    plt.show()"
      ],
      "execution_count": null,
      "outputs": []
    },
    {
      "cell_type": "code",
      "metadata": {
        "id": "yI4sKLwGiCO7",
        "colab_type": "code",
        "colab": {}
      },
      "source": [
        "# Contains all the images in the images directory\n",
        "filenames = os.listdir('path_to_images')\n",
        "\n",
        "# TODO:\n",
        "# a. Create a list of full file paths using the filenames from os.listdir()\n",
        "#      and name it filepaths.\n",
        "filepaths = []"
      ],
      "execution_count": null,
      "outputs": []
    },
    {
      "cell_type": "code",
      "metadata": {
        "id": "dqyLk89-kJbc",
        "colab_type": "code",
        "colab": {}
      },
      "source": [
        "# Display the images with the bounding boxes.\n",
        "files = process_images(filepaths, image_data, 9)\n",
        "display_images(files)"
      ],
      "execution_count": null,
      "outputs": []
    },
    {
      "cell_type": "markdown",
      "metadata": {
        "id": "w3-fJyJgcOuM",
        "colab_type": "text"
      },
      "source": [
        "\n",
        "# Save Label Data to File.\n",
        "Finally, for this notebook we shall save three files of label data to file.\n",
        "1. `coco_label.csv`, a csv file containing `coco` format labels for each image.\n",
        "2. `pascal_voc_labels.csv`, a csv file containing `pascal_voc` format labels for each image.\n",
        "3. `instances_train.json`, this is a json file containing the label data in the official coco format. Refer to [https://www.immersivelimit.com/tutorials/create-coco-annotations-from-scratch](https://www.immersivelimit.com/tutorials/create-coco-annotations-from-scratch) for details.\n",
        "\n",
        "---\n",
        "\n",
        "**TODO:**\n",
        "1. Create the `coco_label.csv` and `pascal_voc_labels.csv`.\n",
        "2. Write a function that returns an dictionary object representating label data in the official coco format.\n",
        "3. Write a file to save the coco dictionary object to file.\n",
        "\n",
        "---\n",
        "**TODO Walk Through:**\n",
        "1. Creating the `.csv` is fairly straight forward, refer to the [pandas documentation](https://pandas.pydata.org/pandas-docs/stable/reference/api/pandas.DataFrame.html) for details.\n",
        "2. Read and understand thoroughly about the official COCO format before writing this function. Refer to the link included in 3 above.\n",
        "3. The function to write to file is implemented for you."
      ]
    },
    {
      "cell_type": "code",
      "metadata": {
        "id": "HHP1q6zimr2D",
        "colab_type": "code",
        "colab": {}
      },
      "source": [
        "# 1. Create and save the coco_labels.csv and the pascal_voc_labels.csv"
      ],
      "execution_count": null,
      "outputs": []
    },
    {
      "cell_type": "code",
      "metadata": {
        "id": "qultPhc7j8Lo",
        "colab_type": "code",
        "colab": {}
      },
      "source": [
        "# Notes: The official COCO format saves each bounding box with the id of\n",
        "#        it's corresponind category. For this set we only have one category.\n",
        "#        The categories list is one-indexed, meaning the first category is 1,2 etc\n",
        "\n",
        "categories =  ['brownspot'] \n",
        "\n",
        "# 2. Create coco file\n",
        "def make_coco_file(labels, categories, filenames):\n",
        "    \"\"\"Creates a COCO format data structure.\"\"\"\n",
        "    raise NotImplementedError\n",
        "    \n",
        "# 3. The last function is implemented for you.       \n",
        "def create_file(coco_data, output_file):\n",
        "    \"\"\"Create JSON file of the COCO_DATA.\"\"\"\n",
        "    if not isinstance(coco_data, dict):\n",
        "      raise TypeError(\"coco_data should be of type dictionary.\")\n",
        "    f = open(output_file, 'w')\n",
        "    json_str = json.dumps(coco_data, indent=4)\n",
        "    f.write(json_str)\n",
        "    f.close()"
      ],
      "execution_count": null,
      "outputs": []
    },
    {
      "cell_type": "code",
      "metadata": {
        "id": "v0mOpiMdoJIe",
        "colab_type": "code",
        "colab": {}
      },
      "source": [
        "# The directory to which to save the output file\n",
        "output_file = 'path/to/folder'\n",
        "\n",
        "coco_data = make_coco_file(image_data, categories, filenames)\n",
        "create_file(coco_data, output_file)"
      ],
      "execution_count": null,
      "outputs": []
    }
  ]
}